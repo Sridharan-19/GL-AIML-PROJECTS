{
 "cells": [
  {
   "cell_type": "markdown",
   "metadata": {
    "id": "XkD04wrMOVyo"
   },
   "source": [
    "# Statistical NLP Project - 1\n",
    "## Author: Sridharan Chandran "
   ]
  },
  {
   "cell_type": "markdown",
   "metadata": {
    "id": "OCzL46wb7lST"
   },
   "source": [
    "## PART - B"
   ]
  },
  {
   "cell_type": "markdown",
   "metadata": {
    "id": "zovpRTk9zNLU"
   },
   "source": [
    "**• DOMAIN:** Customer support\n",
    "\n",
    "**• CONTEXT:** Great Learning has a an academic support department which receives numerous support requests every day throughout the year.\n",
    "Teams are spread across geographies and try to provide support round the year. Sometimes there are circumstances where due to heavy\n",
    "workload certain request resolutions are delayed, impacting company’s business. Some of the requests are very generic where a proper\n",
    "resolution procedure delivered to the user can solve the problem. Company is looking forward to design an automation which can interact with\n",
    "the user, understand the problem and display the resolution procedure [ if found as a generic request ] or redirect the request to an actual human\n",
    "support executive if the request is complex or not in it’s database.\n",
    "\n",
    "**• DATA DESCRIPTION:** A sample corpus is attached for your reference. Please enhance/add more data to the corpus using your linguistics skills.\n",
    "\n",
    "**• PROJECT OBJECTIVE:** Design a python based interactive semi - rule based chatbot which can do the following:"
   ]
  },
  {
   "cell_type": "markdown",
   "metadata": {
    "id": "xyvBq5WozNgf"
   },
   "source": [
    "## Steps and tasks"
   ]
  },
  {
   "cell_type": "code",
   "execution_count": 1,
   "metadata": {
    "id": "wLis49-j1PVm"
   },
   "outputs": [],
   "source": [
    "#Import necessary libraries \n",
    "import numpy as np\n",
    "import pandas as pd\n",
    "import matplotlib.pyplot as plt\n",
    "import seaborn as sns\n",
    "%matplotlib inline\n",
    "import warnings\n",
    "warnings.filterwarnings(\"ignore\")\n",
    "\n",
    "from sklearn.model_selection import train_test_split\n",
    "from sklearn import preprocessing\n",
    "from sklearn.preprocessing import LabelEncoder, StandardScaler\n",
    "from sklearn.linear_model import LogisticRegression\n",
    "from sklearn.metrics import accuracy_score, precision_score, recall_score, f1_score, hamming_loss"
   ]
  },
  {
   "cell_type": "code",
   "execution_count": 2,
   "metadata": {
    "colab": {
     "base_uri": "https://localhost:8080/"
    },
    "id": "DUYlsHBX130A",
    "outputId": "37508650-1b60-4209-b409-b664cf0524a2"
   },
   "outputs": [
    {
     "name": "stdout",
     "output_type": "stream",
     "text": [
      "Mounted at /content/drive\n"
     ]
    }
   ],
   "source": [
    "from google.colab import drive\n",
    "drive.mount('/content/drive')"
   ]
  },
  {
   "cell_type": "code",
   "execution_count": 3,
   "metadata": {
    "id": "Z0QCW3I8Z3dh"
   },
   "outputs": [],
   "source": [
    "import json\n",
    "\n",
    "# Load the file\n",
    "file_path = \"/content/drive/My Drive/Colab Notebooks/My Python Projects/Statistical NLP Project - 1/GL Bot.json\""
   ]
  },
  {
   "cell_type": "code",
   "execution_count": 4,
   "metadata": {
    "id": "4DFk3IdtcdwI"
   },
   "outputs": [],
   "source": [
    "# Load the corpus data from a JSON file\n",
    "def load_corpus(file_path):\n",
    "    with open(file_path, 'r') as file:\n",
    "        corpus_data = json.load(file)\n",
    "    return corpus_data"
   ]
  },
  {
   "cell_type": "code",
   "execution_count": 5,
   "metadata": {
    "colab": {
     "base_uri": "https://localhost:8080/"
    },
    "id": "IUByZpXddrB_",
    "outputId": "1175c11e-fb83-4b92-b819-fffafa0b6589"
   },
   "outputs": [
    {
     "data": {
      "text/plain": [
       "{'intents': [{'tag': 'Intro',\n",
       "   'patterns': ['hi',\n",
       "    'how are you',\n",
       "    'is anyone there',\n",
       "    'hello',\n",
       "    'whats up',\n",
       "    'hey',\n",
       "    'yo',\n",
       "    'listen',\n",
       "    'please help me',\n",
       "    'i am learner from',\n",
       "    'i belong to',\n",
       "    'aiml batch',\n",
       "    'aifl batch',\n",
       "    'i am from',\n",
       "    'my pm is',\n",
       "    'blended',\n",
       "    'online',\n",
       "    'i am from',\n",
       "    'hey ya',\n",
       "    'talking to you for first time'],\n",
       "   'responses': ['Hello! how can i help you ?'],\n",
       "   'context_set': ''},\n",
       "  {'tag': 'Exit',\n",
       "   'patterns': ['thank you',\n",
       "    'thanks',\n",
       "    'cya',\n",
       "    'see you',\n",
       "    'later',\n",
       "    'see you later',\n",
       "    'goodbye',\n",
       "    'i am leaving',\n",
       "    'have a Good day',\n",
       "    'you helped me',\n",
       "    'thanks a lot',\n",
       "    'thanks a ton',\n",
       "    'you are the best',\n",
       "    'great help',\n",
       "    'too good',\n",
       "    'you are a good learning buddy'],\n",
       "   'responses': ['I hope I was able to assist you, Good Bye'],\n",
       "   'context_set': ''},\n",
       "  {'tag': 'Olympus',\n",
       "   'patterns': ['olympus',\n",
       "    'explain me how olympus works',\n",
       "    'I am not able to understand olympus',\n",
       "    'olympus window not working',\n",
       "    'no access to olympus',\n",
       "    'unable to see link in olympus',\n",
       "    'no link visible on olympus',\n",
       "    'whom to contact for olympus',\n",
       "    'lot of problem with olympus',\n",
       "    'olypus is not a good tool',\n",
       "    'lot of problems with olympus',\n",
       "    'how to use olympus',\n",
       "    'teach me olympus'],\n",
       "   'responses': ['Link: Olympus wiki'],\n",
       "   'context_set': ''},\n",
       "  {'tag': 'SL',\n",
       "   'patterns': ['i am not able to understand svm',\n",
       "    'explain me how machine learning works',\n",
       "    'i am not able to understand naive bayes',\n",
       "    'i am not able to understand logistic regression',\n",
       "    'i am not able to understand ensemble techb=niques',\n",
       "    'i am not able to understand knn',\n",
       "    'i am not able to understand knn imputer',\n",
       "    'i am not able to understand cross validation',\n",
       "    'i am not able to understand boosting',\n",
       "    'i am not able to understand random forest',\n",
       "    'i am not able to understand ada boosting',\n",
       "    'i am not able to understand gradient boosting',\n",
       "    'machine learning',\n",
       "    'ML',\n",
       "    'SL',\n",
       "    'supervised learning',\n",
       "    'knn',\n",
       "    'logistic regression',\n",
       "    'regression',\n",
       "    'classification',\n",
       "    'naive bayes',\n",
       "    'nb',\n",
       "    'ensemble techniques',\n",
       "    'bagging',\n",
       "    'boosting',\n",
       "    'ada boosting',\n",
       "    'ada',\n",
       "    'gradient boosting',\n",
       "    'hyper parameters'],\n",
       "   'responses': ['Link: Machine Learning wiki '],\n",
       "   'context_set': ''},\n",
       "  {'tag': 'NN',\n",
       "   'patterns': ['what is deep learning',\n",
       "    'unable to understand deep learning',\n",
       "    'explain me how deep learning works',\n",
       "    'i am not able to understand deep learning',\n",
       "    'not able to understand neural nets',\n",
       "    'very diffult to understand neural nets',\n",
       "    'unable to understand neural nets',\n",
       "    'ann',\n",
       "    'artificial intelligence',\n",
       "    'artificial neural networks',\n",
       "    'weights',\n",
       "    'activation function',\n",
       "    'hidden layers',\n",
       "    'softmax',\n",
       "    'sigmoid',\n",
       "    'relu',\n",
       "    'otimizer',\n",
       "    'forward propagation',\n",
       "    'backward propagation',\n",
       "    'epochs',\n",
       "    'epoch',\n",
       "    'what is an epoch',\n",
       "    'adam',\n",
       "    'sgd'],\n",
       "   'responses': ['Link: Neural Nets wiki'],\n",
       "   'context_set': ''},\n",
       "  {'tag': 'Bot',\n",
       "   'patterns': ['what is your name',\n",
       "    'who are you',\n",
       "    'name please',\n",
       "    'when are your hours of opertions',\n",
       "    'what are your working hours',\n",
       "    'hours of operation',\n",
       "    'working hours',\n",
       "    'hours'],\n",
       "   'responses': ['I am your virtual learning assistant'],\n",
       "   'context_set': ''},\n",
       "  {'tag': 'Profane',\n",
       "   'patterns': ['what the hell',\n",
       "    'bloody stupid bot',\n",
       "    'do you think you are very smart',\n",
       "    'screw you',\n",
       "    'i hate you',\n",
       "    'you are stupid',\n",
       "    'jerk',\n",
       "    'you are a joke',\n",
       "    'useless piece of shit'],\n",
       "   'responses': ['Please use respectful words'],\n",
       "   'context_set': ''},\n",
       "  {'tag': 'Ticket',\n",
       "   'patterns': ['my problem is not solved',\n",
       "    'you did not help me',\n",
       "    'not a good solution',\n",
       "    'bad solution',\n",
       "    'not good solution',\n",
       "    'no help',\n",
       "    'wasted my time',\n",
       "    'useless bot',\n",
       "    'create a ticket'],\n",
       "   'responses': ['Tarnsferring the request to your PM'],\n",
       "   'context_set': ''}]}"
      ]
     },
     "execution_count": 5,
     "metadata": {},
     "output_type": "execute_result"
    }
   ],
   "source": [
    "# Load the corpus from a JSON file\n",
    "corpus = load_corpus(file_path)\n",
    "corpus"
   ]
  },
  {
   "cell_type": "code",
   "execution_count": 6,
   "metadata": {
    "id": "Iw3ZGLOga9MU"
   },
   "outputs": [],
   "source": [
    "# Function to start the chat session\n",
    "def start_chat():\n",
    "    print(\"Welcome to the Great Learning academic support chat. How can I assist you today?\")\n",
    "    chat_loop()"
   ]
  },
  {
   "cell_type": "code",
   "execution_count": 7,
   "metadata": {
    "id": "DT86vNsvZK3W"
   },
   "outputs": [],
   "source": [
    "# Function to handle the chat loop\n",
    "def chat_loop():\n",
    "    while True:\n",
    "        user_input = input(\"User: \")\n",
    "\n",
    "        # Check if the user wants to end the chat session\n",
    "        if user_input.lower() == \"end\":\n",
    "            print(\"Thank you for using our chat service. Goodbye!\")\n",
    "            break\n",
    "\n",
    "        found_match = False\n",
    "\n",
    "        # Search for a matching question in the corpus\n",
    "        for intent in corpus['intents']:\n",
    "            for pattern in intent['patterns']:\n",
    "                if pattern.lower() in user_input.lower():\n",
    "                    print(\"ChatBot: \" + intent['responses'][0])\n",
    "                    found_match = True\n",
    "                    break\n",
    "            if found_match:\n",
    "                break\n",
    "\n",
    "        # If no match is found, redirect the user to a human support executive\n",
    "        if not found_match:\n",
    "            print(\"ChatBot: I'm sorry, but I couldn't find a relevant answer. Let me redirect your request to a human support executive.\")"
   ]
  },
  {
   "cell_type": "markdown",
   "metadata": {
    "id": "fVQDNje9FcU0"
   },
   "source": [
    "## 1. Start chat session with greetings and ask what the user is looking for. "
   ]
  },
  {
   "cell_type": "markdown",
   "metadata": {
    "id": "KoDsylS2GrA4"
   },
   "source": [
    "## 2. Accept dynamic text based questions from the user. Reply back with relevant answer from the designed corpus. "
   ]
  },
  {
   "cell_type": "markdown",
   "metadata": {
    "id": "JuKbQrUkGvAD"
   },
   "source": [
    "\n",
    "## 3. End the chat session only if the user requests to end else ask what the user is looking for. Loop continues till the user asks to end it."
   ]
  },
  {
   "cell_type": "code",
   "execution_count": 9,
   "metadata": {
    "colab": {
     "base_uri": "https://localhost:8080/"
    },
    "id": "hU0JV3oCbIov",
    "outputId": "64eacf05-a37c-43f8-ec2c-0d3796ed62de"
   },
   "outputs": [
    {
     "name": "stdout",
     "output_type": "stream",
     "text": [
      "Welcome to the Great Learning academic support chat. How can I assist you today?\n",
      "User: hi\n",
      "ChatBot: Hello! how can i help you ?\n",
      "User: I am not able to understand olympus\n",
      "ChatBot: Link: Olympus wiki\n",
      "User: What is deep learning\n",
      "ChatBot: Link: Neural Nets wiki\n",
      "User: very bad\n",
      "ChatBot: I'm sorry, but I couldn't find a relevant answer. Let me redirect your request to a human support executive.\n",
      "User: good\n",
      "ChatBot: I'm sorry, but I couldn't find a relevant answer. Let me redirect your request to a human support executive.\n",
      "User: epoch\n",
      "ChatBot: Link: Neural Nets wiki\n",
      "User: thank you\n",
      "ChatBot: Hello! how can i help you ?\n",
      "User: end\n",
      "Thank you for using our chat service. Goodbye!\n"
     ]
    }
   ],
   "source": [
    "# Start the chat session\n",
    "start_chat()"
   ]
  }
 ],
 "metadata": {
  "accelerator": "GPU",
  "colab": {
   "provenance": []
  },
  "gpuClass": "standard",
  "kernelspec": {
   "display_name": "Python 3 (ipykernel)",
   "language": "python",
   "name": "python3"
  },
  "language_info": {
   "codemirror_mode": {
    "name": "ipython",
    "version": 3
   },
   "file_extension": ".py",
   "mimetype": "text/x-python",
   "name": "python",
   "nbconvert_exporter": "python",
   "pygments_lexer": "ipython3",
   "version": "3.9.15"
  }
 },
 "nbformat": 4,
 "nbformat_minor": 1
}
